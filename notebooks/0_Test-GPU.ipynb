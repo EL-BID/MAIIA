{
 "cells": [
  {
   "cell_type": "markdown",
   "metadata": {},
   "source": [
    "# Test GPU\n",
    "\n",
    "Ejecute este notebook para asegurarse de que tiene acceso a una GPU.  \n",
    "\n",
    "[English] Run this notebook to ensure that you have access to a GPU.  \n",
    "[Portugues] Execute este caderno para garantir que ele tenha acesso a uma GPU."
   ]
  },
  {
   "cell_type": "code",
   "execution_count": 1,
   "metadata": {},
   "outputs": [],
   "source": [
    "import tensorflow as tf"
   ]
  },
  {
   "cell_type": "code",
   "execution_count": 2,
   "metadata": {},
   "outputs": [
    {
     "name": "stdout",
     "output_type": "stream",
     "text": [
      "Tiene dispositivos GPU:\n",
      "* /physical_device:GPU:0\n"
     ]
    }
   ],
   "source": [
    "gpu_devices = tf.config.list_physical_devices('GPU')\n",
    "\n",
    "if gpu_devices:\n",
    "    print(\"Tiene dispositivos GPU:\")\n",
    "    for dev in gpu_devices:\n",
    "        print(\"*\", dev.name)\n",
    "else:\n",
    "    print(\"No se han encontrados dispositivos GPU.\")"
   ]
  }
 ],
 "metadata": {
  "kernelspec": {
   "display_name": "Python 3",
   "language": "python",
   "name": "python3"
  },
  "language_info": {
   "codemirror_mode": {
    "name": "ipython",
    "version": 3
   },
   "file_extension": ".py",
   "mimetype": "text/x-python",
   "name": "python",
   "nbconvert_exporter": "python",
   "pygments_lexer": "ipython3",
   "version": "3.8.10"
  }
 },
 "nbformat": 4,
 "nbformat_minor": 2
}

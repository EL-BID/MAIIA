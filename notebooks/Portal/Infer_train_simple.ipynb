{
 "cells": [
  {
   "cell_type": "markdown",
   "metadata": {},
   "source": [
    "## ENTRY POINT FOR THE INFORMAL SETTLEMENT DELINEATION FRAMEWORK"
   ]
  },
  {
   "cell_type": "markdown",
   "metadata": {},
   "source": [
    "This notebook demonstrates how you can launch training script, compare model performance and load the weights of a trained model, then use this for inference and store the segmentation maps."
   ]
  },
  {
   "cell_type": "code",
   "execution_count": null,
   "metadata": {},
   "outputs": [],
   "source": [
    "import sys\n",
    "import gim_cv.config as cfg\n",
    "import numpy as np\n",
    "\n",
    "sys.path.append('../../bin')\n",
    "from bin import utility\n",
    "from utility import *"
   ]
  },
  {
   "cell_type": "markdown",
   "metadata": {},
   "source": [
    "The current framework interface has been simplified and the nomenclature is as follows:\n",
    "\n",
    "+ Place the training RGB images in the *TRAIN/rasters/* directory which is accessible from the main project repository (/home/root/)\n",
    "  \n",
    "  \n",
    "+ Place the corresponding training labels in the *TRAIN/masks/* directory which is accessible from the main project repository (/home/root/)\n",
    "  \n",
    "  \n",
    "+ Place the RGB images to be used for inference, in the *INFER/* directory which is accessible from the main project repository (/home/root/)\n",
    "  \n",
    "  \n",
    "+ The model will be saved in the *MODELS/* directory with the format *Model_name+checkpoint_uuid+current_date*\n",
    "  \n",
    "  \n",
    "+ Once the inference section is launched, the prediction maps will be generated and saved under the directory *PREDICTIONS/* with the format *Model+model_name+checkpoint_uuid+Infer+Image_name+current_date*"
   ]
  },
  {
   "cell_type": "raw",
   "metadata": {},
   "source": [
    "To launch the training of a model, you can specify the model path and spatial resolution of the target area imagery. Both parameters are set to their default values in accordance with the instructions above."
   ]
  },
  {
   "cell_type": "code",
   "execution_count": null,
   "metadata": {},
   "outputs": [],
   "source": [
    "train_model(models_dir = str(cfg.models_path), target_spatial_resolution = 0.4)"
   ]
  },
  {
   "cell_type": "raw",
   "metadata": {},
   "source": [
    "Once you have a model trained with satisfactory performance, you can use it to make some predictions on predifined location.\n",
    "The rasters of the area of interest can be stored in the default inference directory as instructed or in a specific location that you need to set with the *inference_dir* parameter. The location of the model's repository and the path to be used to store the segmentation map can also be specified respectively with the parameters *model_dir* and *predictions_dir*."
   ]
  },
  {
   "cell_type": "code",
   "execution_count": null,
   "metadata": {},
   "outputs": [],
   "source": [
    "infer_from_model(predictions_dir = cfg.predictions_data_tif_path, inference_dir = str(cfg.infer_data_tif_path), models_dir = str(cfg.models_path), inference_window_size = 1024)"
   ]
  }
 ],
 "metadata": {
  "kernelspec": {
   "display_name": "Python 3",
   "language": "python",
   "name": "python3"
  },
  "language_info": {
   "codemirror_mode": {
    "name": "ipython",
    "version": 3
   },
   "file_extension": ".py",
   "mimetype": "text/x-python",
   "name": "python",
   "nbconvert_exporter": "python",
   "pygments_lexer": "ipython3",
   "version": "3.7.9"
  }
 },
 "nbformat": 4,
 "nbformat_minor": 4
}
